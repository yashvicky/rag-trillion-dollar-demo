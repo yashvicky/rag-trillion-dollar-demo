{
  "nbformat": 4,
  "nbformat_minor": 0,
  "metadata": {
    "colab": {
      "provenance": [],
      "authorship_tag": "ABX9TyMl3E8+nnl4O+6ybXd95JBS",
      "include_colab_link": true
    },
    "kernelspec": {
      "name": "python3",
      "display_name": "Python 3"
    },
    "language_info": {
      "name": "python"
    }
  },
  "cells": [
    {
      "cell_type": "markdown",
      "metadata": {
        "id": "view-in-github",
        "colab_type": "text"
      },
      "source": [
        "<a href=\"https://colab.research.google.com/github/yashvicky/rag-trillion-dollar-demo/blob/main/Trillion_Dollar_company.ipynb\" target=\"_parent\"><img src=\"https://colab.research.google.com/assets/colab-badge.svg\" alt=\"Open In Colab\"/></a>"
      ]
    },
    {
      "cell_type": "code",
      "execution_count": null,
      "metadata": {
        "colab": {
          "base_uri": "https://localhost:8080/"
        },
        "id": "ZJrgnJArmC_y",
        "outputId": "644aef69-ba16-4ecb-b5a5-7b66aa7b8bb7"
      },
      "outputs": [
        {
          "output_type": "stream",
          "name": "stdout",
          "text": [
            "Requirement already satisfied: faiss-cpu in /usr/local/lib/python3.12/dist-packages (1.12.0)\n",
            "Requirement already satisfied: openai in /usr/local/lib/python3.12/dist-packages (1.108.0)\n",
            "Requirement already satisfied: streamlit in /usr/local/lib/python3.12/dist-packages (1.50.0)\n",
            "Requirement already satisfied: numpy<3.0,>=1.25.0 in /usr/local/lib/python3.12/dist-packages (from faiss-cpu) (2.0.2)\n",
            "Requirement already satisfied: packaging in /usr/local/lib/python3.12/dist-packages (from faiss-cpu) (25.0)\n",
            "Requirement already satisfied: anyio<5,>=3.5.0 in /usr/local/lib/python3.12/dist-packages (from openai) (4.10.0)\n",
            "Requirement already satisfied: distro<2,>=1.7.0 in /usr/local/lib/python3.12/dist-packages (from openai) (1.9.0)\n",
            "Requirement already satisfied: httpx<1,>=0.23.0 in /usr/local/lib/python3.12/dist-packages (from openai) (0.28.1)\n",
            "Requirement already satisfied: jiter<1,>=0.4.0 in /usr/local/lib/python3.12/dist-packages (from openai) (0.11.0)\n",
            "Requirement already satisfied: pydantic<3,>=1.9.0 in /usr/local/lib/python3.12/dist-packages (from openai) (2.11.9)\n",
            "Requirement already satisfied: sniffio in /usr/local/lib/python3.12/dist-packages (from openai) (1.3.1)\n",
            "Requirement already satisfied: tqdm>4 in /usr/local/lib/python3.12/dist-packages (from openai) (4.67.1)\n",
            "Requirement already satisfied: typing-extensions<5,>=4.11 in /usr/local/lib/python3.12/dist-packages (from openai) (4.15.0)\n",
            "Requirement already satisfied: altair!=5.4.0,!=5.4.1,<6,>=4.0 in /usr/local/lib/python3.12/dist-packages (from streamlit) (5.5.0)\n",
            "Requirement already satisfied: blinker<2,>=1.5.0 in /usr/local/lib/python3.12/dist-packages (from streamlit) (1.9.0)\n",
            "Requirement already satisfied: cachetools<7,>=4.0 in /usr/local/lib/python3.12/dist-packages (from streamlit) (5.5.2)\n",
            "Requirement already satisfied: click<9,>=7.0 in /usr/local/lib/python3.12/dist-packages (from streamlit) (8.2.1)\n",
            "Requirement already satisfied: pandas<3,>=1.4.0 in /usr/local/lib/python3.12/dist-packages (from streamlit) (2.2.2)\n",
            "Requirement already satisfied: pillow<12,>=7.1.0 in /usr/local/lib/python3.12/dist-packages (from streamlit) (11.3.0)\n",
            "Requirement already satisfied: protobuf<7,>=3.20 in /usr/local/lib/python3.12/dist-packages (from streamlit) (5.29.5)\n",
            "Requirement already satisfied: pyarrow>=7.0 in /usr/local/lib/python3.12/dist-packages (from streamlit) (18.1.0)\n",
            "Requirement already satisfied: requests<3,>=2.27 in /usr/local/lib/python3.12/dist-packages (from streamlit) (2.32.4)\n",
            "Requirement already satisfied: tenacity<10,>=8.1.0 in /usr/local/lib/python3.12/dist-packages (from streamlit) (8.5.0)\n",
            "Requirement already satisfied: toml<2,>=0.10.1 in /usr/local/lib/python3.12/dist-packages (from streamlit) (0.10.2)\n",
            "Requirement already satisfied: watchdog<7,>=2.1.5 in /usr/local/lib/python3.12/dist-packages (from streamlit) (6.0.0)\n",
            "Requirement already satisfied: gitpython!=3.1.19,<4,>=3.0.7 in /usr/local/lib/python3.12/dist-packages (from streamlit) (3.1.45)\n",
            "Requirement already satisfied: pydeck<1,>=0.8.0b4 in /usr/local/lib/python3.12/dist-packages (from streamlit) (0.9.1)\n",
            "Requirement already satisfied: tornado!=6.5.0,<7,>=6.0.3 in /usr/local/lib/python3.12/dist-packages (from streamlit) (6.4.2)\n",
            "Requirement already satisfied: jinja2 in /usr/local/lib/python3.12/dist-packages (from altair!=5.4.0,!=5.4.1,<6,>=4.0->streamlit) (3.1.6)\n",
            "Requirement already satisfied: jsonschema>=3.0 in /usr/local/lib/python3.12/dist-packages (from altair!=5.4.0,!=5.4.1,<6,>=4.0->streamlit) (4.25.1)\n",
            "Requirement already satisfied: narwhals>=1.14.2 in /usr/local/lib/python3.12/dist-packages (from altair!=5.4.0,!=5.4.1,<6,>=4.0->streamlit) (2.5.0)\n",
            "Requirement already satisfied: idna>=2.8 in /usr/local/lib/python3.12/dist-packages (from anyio<5,>=3.5.0->openai) (3.10)\n",
            "Requirement already satisfied: gitdb<5,>=4.0.1 in /usr/local/lib/python3.12/dist-packages (from gitpython!=3.1.19,<4,>=3.0.7->streamlit) (4.0.12)\n",
            "Requirement already satisfied: certifi in /usr/local/lib/python3.12/dist-packages (from httpx<1,>=0.23.0->openai) (2025.8.3)\n",
            "Requirement already satisfied: httpcore==1.* in /usr/local/lib/python3.12/dist-packages (from httpx<1,>=0.23.0->openai) (1.0.9)\n",
            "Requirement already satisfied: h11>=0.16 in /usr/local/lib/python3.12/dist-packages (from httpcore==1.*->httpx<1,>=0.23.0->openai) (0.16.0)\n",
            "Requirement already satisfied: python-dateutil>=2.8.2 in /usr/local/lib/python3.12/dist-packages (from pandas<3,>=1.4.0->streamlit) (2.9.0.post0)\n",
            "Requirement already satisfied: pytz>=2020.1 in /usr/local/lib/python3.12/dist-packages (from pandas<3,>=1.4.0->streamlit) (2025.2)\n",
            "Requirement already satisfied: tzdata>=2022.7 in /usr/local/lib/python3.12/dist-packages (from pandas<3,>=1.4.0->streamlit) (2025.2)\n",
            "Requirement already satisfied: annotated-types>=0.6.0 in /usr/local/lib/python3.12/dist-packages (from pydantic<3,>=1.9.0->openai) (0.7.0)\n",
            "Requirement already satisfied: pydantic-core==2.33.2 in /usr/local/lib/python3.12/dist-packages (from pydantic<3,>=1.9.0->openai) (2.33.2)\n",
            "Requirement already satisfied: typing-inspection>=0.4.0 in /usr/local/lib/python3.12/dist-packages (from pydantic<3,>=1.9.0->openai) (0.4.1)\n",
            "Requirement already satisfied: charset_normalizer<4,>=2 in /usr/local/lib/python3.12/dist-packages (from requests<3,>=2.27->streamlit) (3.4.3)\n",
            "Requirement already satisfied: urllib3<3,>=1.21.1 in /usr/local/lib/python3.12/dist-packages (from requests<3,>=2.27->streamlit) (2.5.0)\n",
            "Requirement already satisfied: smmap<6,>=3.0.1 in /usr/local/lib/python3.12/dist-packages (from gitdb<5,>=4.0.1->gitpython!=3.1.19,<4,>=3.0.7->streamlit) (5.0.2)\n",
            "Requirement already satisfied: MarkupSafe>=2.0 in /usr/local/lib/python3.12/dist-packages (from jinja2->altair!=5.4.0,!=5.4.1,<6,>=4.0->streamlit) (3.0.2)\n",
            "Requirement already satisfied: attrs>=22.2.0 in /usr/local/lib/python3.12/dist-packages (from jsonschema>=3.0->altair!=5.4.0,!=5.4.1,<6,>=4.0->streamlit) (25.3.0)\n",
            "Requirement already satisfied: jsonschema-specifications>=2023.03.6 in /usr/local/lib/python3.12/dist-packages (from jsonschema>=3.0->altair!=5.4.0,!=5.4.1,<6,>=4.0->streamlit) (2025.9.1)\n",
            "Requirement already satisfied: referencing>=0.28.4 in /usr/local/lib/python3.12/dist-packages (from jsonschema>=3.0->altair!=5.4.0,!=5.4.1,<6,>=4.0->streamlit) (0.36.2)\n",
            "Requirement already satisfied: rpds-py>=0.7.1 in /usr/local/lib/python3.12/dist-packages (from jsonschema>=3.0->altair!=5.4.0,!=5.4.1,<6,>=4.0->streamlit) (0.27.1)\n",
            "Requirement already satisfied: six>=1.5 in /usr/local/lib/python3.12/dist-packages (from python-dateutil>=2.8.2->pandas<3,>=1.4.0->streamlit) (1.17.0)\n"
          ]
        }
      ],
      "source": [
        "!pip install faiss-cpu openai streamlit\n"
      ]
    },
    {
      "cell_type": "code",
      "source": [
        "!pip install sentence-transformers transformers faiss-cpu\n"
      ],
      "metadata": {
        "colab": {
          "base_uri": "https://localhost:8080/"
        },
        "id": "p_KzvecNndBM",
        "outputId": "69d49187-2c17-493a-f0ab-f5c267be2f84"
      },
      "execution_count": null,
      "outputs": [
        {
          "output_type": "stream",
          "name": "stdout",
          "text": [
            "Requirement already satisfied: sentence-transformers in /usr/local/lib/python3.12/dist-packages (5.1.0)\n",
            "Requirement already satisfied: transformers in /usr/local/lib/python3.12/dist-packages (4.56.1)\n",
            "Requirement already satisfied: faiss-cpu in /usr/local/lib/python3.12/dist-packages (1.12.0)\n",
            "Requirement already satisfied: tqdm in /usr/local/lib/python3.12/dist-packages (from sentence-transformers) (4.67.1)\n",
            "Requirement already satisfied: torch>=1.11.0 in /usr/local/lib/python3.12/dist-packages (from sentence-transformers) (2.8.0+cu126)\n",
            "Requirement already satisfied: scikit-learn in /usr/local/lib/python3.12/dist-packages (from sentence-transformers) (1.6.1)\n",
            "Requirement already satisfied: scipy in /usr/local/lib/python3.12/dist-packages (from sentence-transformers) (1.16.2)\n",
            "Requirement already satisfied: huggingface-hub>=0.20.0 in /usr/local/lib/python3.12/dist-packages (from sentence-transformers) (0.35.0)\n",
            "Requirement already satisfied: Pillow in /usr/local/lib/python3.12/dist-packages (from sentence-transformers) (11.3.0)\n",
            "Requirement already satisfied: typing_extensions>=4.5.0 in /usr/local/lib/python3.12/dist-packages (from sentence-transformers) (4.15.0)\n",
            "Requirement already satisfied: filelock in /usr/local/lib/python3.12/dist-packages (from transformers) (3.19.1)\n",
            "Requirement already satisfied: numpy>=1.17 in /usr/local/lib/python3.12/dist-packages (from transformers) (2.0.2)\n",
            "Requirement already satisfied: packaging>=20.0 in /usr/local/lib/python3.12/dist-packages (from transformers) (25.0)\n",
            "Requirement already satisfied: pyyaml>=5.1 in /usr/local/lib/python3.12/dist-packages (from transformers) (6.0.2)\n",
            "Requirement already satisfied: regex!=2019.12.17 in /usr/local/lib/python3.12/dist-packages (from transformers) (2024.11.6)\n",
            "Requirement already satisfied: requests in /usr/local/lib/python3.12/dist-packages (from transformers) (2.32.4)\n",
            "Requirement already satisfied: tokenizers<=0.23.0,>=0.22.0 in /usr/local/lib/python3.12/dist-packages (from transformers) (0.22.0)\n",
            "Requirement already satisfied: safetensors>=0.4.3 in /usr/local/lib/python3.12/dist-packages (from transformers) (0.6.2)\n",
            "Requirement already satisfied: fsspec>=2023.5.0 in /usr/local/lib/python3.12/dist-packages (from huggingface-hub>=0.20.0->sentence-transformers) (2025.3.0)\n",
            "Requirement already satisfied: hf-xet<2.0.0,>=1.1.3 in /usr/local/lib/python3.12/dist-packages (from huggingface-hub>=0.20.0->sentence-transformers) (1.1.10)\n",
            "Requirement already satisfied: setuptools in /usr/local/lib/python3.12/dist-packages (from torch>=1.11.0->sentence-transformers) (75.2.0)\n",
            "Requirement already satisfied: sympy>=1.13.3 in /usr/local/lib/python3.12/dist-packages (from torch>=1.11.0->sentence-transformers) (1.13.3)\n",
            "Requirement already satisfied: networkx in /usr/local/lib/python3.12/dist-packages (from torch>=1.11.0->sentence-transformers) (3.5)\n",
            "Requirement already satisfied: jinja2 in /usr/local/lib/python3.12/dist-packages (from torch>=1.11.0->sentence-transformers) (3.1.6)\n",
            "Requirement already satisfied: nvidia-cuda-nvrtc-cu12==12.6.77 in /usr/local/lib/python3.12/dist-packages (from torch>=1.11.0->sentence-transformers) (12.6.77)\n",
            "Requirement already satisfied: nvidia-cuda-runtime-cu12==12.6.77 in /usr/local/lib/python3.12/dist-packages (from torch>=1.11.0->sentence-transformers) (12.6.77)\n",
            "Requirement already satisfied: nvidia-cuda-cupti-cu12==12.6.80 in /usr/local/lib/python3.12/dist-packages (from torch>=1.11.0->sentence-transformers) (12.6.80)\n",
            "Requirement already satisfied: nvidia-cudnn-cu12==9.10.2.21 in /usr/local/lib/python3.12/dist-packages (from torch>=1.11.0->sentence-transformers) (9.10.2.21)\n",
            "Requirement already satisfied: nvidia-cublas-cu12==12.6.4.1 in /usr/local/lib/python3.12/dist-packages (from torch>=1.11.0->sentence-transformers) (12.6.4.1)\n",
            "Requirement already satisfied: nvidia-cufft-cu12==11.3.0.4 in /usr/local/lib/python3.12/dist-packages (from torch>=1.11.0->sentence-transformers) (11.3.0.4)\n",
            "Requirement already satisfied: nvidia-curand-cu12==10.3.7.77 in /usr/local/lib/python3.12/dist-packages (from torch>=1.11.0->sentence-transformers) (10.3.7.77)\n",
            "Requirement already satisfied: nvidia-cusolver-cu12==11.7.1.2 in /usr/local/lib/python3.12/dist-packages (from torch>=1.11.0->sentence-transformers) (11.7.1.2)\n",
            "Requirement already satisfied: nvidia-cusparse-cu12==12.5.4.2 in /usr/local/lib/python3.12/dist-packages (from torch>=1.11.0->sentence-transformers) (12.5.4.2)\n",
            "Requirement already satisfied: nvidia-cusparselt-cu12==0.7.1 in /usr/local/lib/python3.12/dist-packages (from torch>=1.11.0->sentence-transformers) (0.7.1)\n",
            "Requirement already satisfied: nvidia-nccl-cu12==2.27.3 in /usr/local/lib/python3.12/dist-packages (from torch>=1.11.0->sentence-transformers) (2.27.3)\n",
            "Requirement already satisfied: nvidia-nvtx-cu12==12.6.77 in /usr/local/lib/python3.12/dist-packages (from torch>=1.11.0->sentence-transformers) (12.6.77)\n",
            "Requirement already satisfied: nvidia-nvjitlink-cu12==12.6.85 in /usr/local/lib/python3.12/dist-packages (from torch>=1.11.0->sentence-transformers) (12.6.85)\n",
            "Requirement already satisfied: nvidia-cufile-cu12==1.11.1.6 in /usr/local/lib/python3.12/dist-packages (from torch>=1.11.0->sentence-transformers) (1.11.1.6)\n",
            "Requirement already satisfied: triton==3.4.0 in /usr/local/lib/python3.12/dist-packages (from torch>=1.11.0->sentence-transformers) (3.4.0)\n",
            "Requirement already satisfied: charset_normalizer<4,>=2 in /usr/local/lib/python3.12/dist-packages (from requests->transformers) (3.4.3)\n",
            "Requirement already satisfied: idna<4,>=2.5 in /usr/local/lib/python3.12/dist-packages (from requests->transformers) (3.10)\n",
            "Requirement already satisfied: urllib3<3,>=1.21.1 in /usr/local/lib/python3.12/dist-packages (from requests->transformers) (2.5.0)\n",
            "Requirement already satisfied: certifi>=2017.4.17 in /usr/local/lib/python3.12/dist-packages (from requests->transformers) (2025.8.3)\n",
            "Requirement already satisfied: joblib>=1.2.0 in /usr/local/lib/python3.12/dist-packages (from scikit-learn->sentence-transformers) (1.5.2)\n",
            "Requirement already satisfied: threadpoolctl>=3.1.0 in /usr/local/lib/python3.12/dist-packages (from scikit-learn->sentence-transformers) (3.6.0)\n",
            "Requirement already satisfied: mpmath<1.4,>=1.1.0 in /usr/local/lib/python3.12/dist-packages (from sympy>=1.13.3->torch>=1.11.0->sentence-transformers) (1.3.0)\n",
            "Requirement already satisfied: MarkupSafe>=2.0 in /usr/local/lib/python3.12/dist-packages (from jinja2->torch>=1.11.0->sentence-transformers) (3.0.2)\n"
          ]
        }
      ]
    },
    {
      "cell_type": "code",
      "source": [
        "docs = [\n",
        "    \"The next trillion-dollar company will likely dominate an industry where AI agents become indispensable, integrating deeply into workflows and consumer life.\",\n",
        "    \"Sustainability and climate-tech may fuel the rise of the next trillion-dollar firm, driven by breakthroughs in clean energy, carbon capture, and scalable green infrastructure.\",\n",
        "    \"The next trillion-dollar opportunity could come from biotech, where personalized medicine and gene editing converge with AI to drastically lower costs and improve outcomes.\",\n",
        "    \"Platforms that orchestrate AI-first enterprises—where every department is agentic and self-improving—are strong contenders for trillion-dollar scale.\",\n",
        "    \"Space economy expansion, including satellite networks, asteroid mining, and interplanetary logistics, could create trillion-dollar valuations within two decades.\",\n",
        "    \"Trust and security will be non-negotiable; the next trillion-dollar company will win by proving it can deploy AI at scale safely, ethically, and under tight regulatory frameworks.\",\n",
        "    \"Consumer adoption will hinge on seamless design; trillion-dollar winners will make advanced AI invisible and intuitive, like the iPhone did for mobile computing.\"\n",
        "]\n"
      ],
      "metadata": {
        "id": "ep3Eroa1ndHu"
      },
      "execution_count": null,
      "outputs": []
    },
    {
      "cell_type": "code",
      "source": [
        "from sentence_transformers import SentenceTransformer\n",
        "import numpy as np\n",
        "import faiss\n",
        "from transformers import pipeline\n",
        "\n",
        "# 1. Embedding model (retriever)\n",
        "embed_model = SentenceTransformer('all-MiniLM-L6-v2')\n",
        "\n",
        "# 2. Generative model (answering)\n",
        "gen_pipeline = pipeline(\"text2text-generation\", model=\"google/flan-t5-base\")\n",
        "\n",
        "# 3. Knowledge base: your trillion-dollar company notes\n",
        "docs = [\n",
        "    \"The next trillion-dollar company will likely dominate an industry where AI agents become indispensable, integrating deeply into workflows and consumer life.\",\n",
        "    \"Sustainability and climate-tech may fuel the rise of the next trillion-dollar firm, driven by breakthroughs in clean energy, carbon capture, and scalable green infrastructure.\",\n",
        "    \"The next trillion-dollar opportunity could come from biotech, where personalized medicine and gene editing converge with AI to drastically lower costs and improve outcomes.\",\n",
        "    \"Platforms that orchestrate AI-first enterprises—where every department is agentic and self-improving—are strong contenders for trillion-dollar scale.\",\n",
        "    \"Space economy expansion, including satellite networks, asteroid mining, and interplanetary logistics, could create trillion-dollar valuations within two decades.\",\n",
        "    \"Trust and security will be non-negotiable; the next trillion-dollar company will win by proving it can deploy AI at scale safely, ethically, and under tight regulatory frameworks.\",\n",
        "    \"Consumer adoption will hinge on seamless design; trillion-dollar winners will make advanced AI invisible and intuitive, like the iPhone did for mobile computing.\"\n",
        "]\n",
        "\n",
        "# 4. Build FAISS index\n",
        "embeddings = embed_model.encode(docs, convert_to_numpy=True).astype(\"float32\")\n",
        "index = faiss.IndexFlatL2(embeddings.shape[1])\n",
        "index.add(embeddings)\n",
        "\n",
        "# 5. RAG function\n",
        "def rag_generate(question, k=3):\n",
        "    # Retrieve top k passages\n",
        "    q_embed = embed_model.encode([question], convert_to_numpy=True).astype(\"float32\")\n",
        "    D, I = index.search(q_embed, k=k)\n",
        "    retrieved = [docs[i] for i in I[0]]\n",
        "\n",
        "    context = \" \".join(retrieved)\n",
        "    prompt = f\"\"\"Use the context below to answer concisely and avoid repetition.\n",
        "\n",
        "Context: {context}\n",
        "\n",
        "Question: {question}\n",
        "Answer in 2-3 clear sentences:\n",
        "\"\"\"\n",
        "    result = gen_pipeline(prompt, max_new_tokens=150, do_sample=False, truncation=True)\n",
        "    return result[0][\"generated_text\"], retrieved\n"
      ],
      "metadata": {
        "colab": {
          "base_uri": "https://localhost:8080/"
        },
        "id": "nGHpj_TdndKc",
        "outputId": "9a48d027-a52e-4356-9c1d-9b8e16d92f4b"
      },
      "execution_count": null,
      "outputs": [
        {
          "output_type": "stream",
          "name": "stderr",
          "text": [
            "Device set to use cpu\n"
          ]
        }
      ]
    },
    {
      "cell_type": "code",
      "source": [
        "answer, retrieved = rag_generate(\"What challenges might the next trillion-dollar company face?\")\n",
        "print(\"💡 Answer:\", answer)\n",
        "print(\"\\n📚 Context used:\")\n",
        "for r in retrieved:\n",
        "    print(\"-\", r)\n"
      ],
      "metadata": {
        "colab": {
          "base_uri": "https://localhost:8080/"
        },
        "id": "LK6IlVFEgmJy",
        "outputId": "8002a3a6-2cb3-4e7a-f5c9-f7b6a780f48c"
      },
      "execution_count": null,
      "outputs": [
        {
          "output_type": "stream",
          "name": "stdout",
          "text": [
            "💡 Answer: sustainability and climate-tech\n",
            "\n",
            "📚 Context used:\n",
            "- Trust and security will be non-negotiable; the next trillion-dollar company will win by proving it can deploy AI at scale safely, ethically, and under tight regulatory frameworks.\n",
            "- Sustainability and climate-tech may fuel the rise of the next trillion-dollar firm, driven by breakthroughs in clean energy, carbon capture, and scalable green infrastructure.\n",
            "- The next trillion-dollar company will likely dominate an industry where AI agents become indispensable, integrating deeply into workflows and consumer life.\n"
          ]
        }
      ]
    },
    {
      "cell_type": "code",
      "source": [
        "answer, retrieved = rag_generate(\"What challenges might the next trillion-dollar company face?\")\n",
        "print(\"🔍 Question:\", \"What challenges might the next trillion-dollar company face?\")\n",
        "print(\"💡 Generated Answer:\\n\", answer)\n",
        "print(\"\\n📚 Context used:\")\n",
        "for r in retrieved:\n",
        "    print(\"-\", r)\n"
      ],
      "metadata": {
        "colab": {
          "base_uri": "https://localhost:8080/"
        },
        "id": "fgolxWgFarCI",
        "outputId": "37b2475d-fbe2-4b30-8a80-e72da6c37830"
      },
      "execution_count": null,
      "outputs": [
        {
          "output_type": "stream",
          "name": "stderr",
          "text": [
            "The following generation flags are not valid and may be ignored: ['temperature']. Set `TRANSFORMERS_VERBOSITY=info` for more details.\n",
            "Setting `pad_token_id` to `eos_token_id`:50256 for open-end generation.\n"
          ]
        },
        {
          "output_type": "stream",
          "name": "stdout",
          "text": [
            "🔍 Question: What challenges might the next trillion-dollar company face?\n",
            "💡 Generated Answer:\n",
            " Use the context below to answer concisely and avoid repetition.\n",
            "    \n",
            "Context: Trust and security will be non-negotiable; the next trillion-dollar company will win by proving it can deploy AI at scale safely, ethically, and under tight regulatory frameworks. Sustainability and climate-tech may fuel the rise of the next trillion-dollar firm, driven by breakthroughs in clean energy, carbon capture, and scalable green infrastructure. The next trillion-dollar company will likely dominate an industry where AI agents become indispensable, integrating deeply into workflows and consumer life.\n",
            "\n",
            "Question: What challenges might the next trillion-dollar company face?\n",
            "Answer in 2-3 clear sentences:\n",
            "\n",
            "The next trillion-dollar company will likely face a number of challenges.\n",
            "\n",
            "The next trillion-dollar company will likely face a number of challenges.\n",
            "\n",
            "The next trillion-dollar company will likely face a number of challenges.\n",
            "\n",
            "The next trillion-dollar company will likely face a number of challenges.\n",
            "\n",
            "The next trillion-dollar company will likely face a number of challenges.\n",
            "\n",
            "The next trillion-dollar company will likely face a number of challenges.\n",
            "\n",
            "The next trillion-dollar company will likely face a number of challenges.\n",
            "\n",
            "The next trillion-dollar company will likely face a number of challenges.\n",
            "\n",
            "The next trillion-dollar company will likely face a number of challenges.\n",
            "\n",
            "The next trillion-dollar\n",
            "\n",
            "📚 Context used:\n",
            "- Trust and security will be non-negotiable; the next trillion-dollar company will win by proving it can deploy AI at scale safely, ethically, and under tight regulatory frameworks.\n",
            "- Sustainability and climate-tech may fuel the rise of the next trillion-dollar firm, driven by breakthroughs in clean energy, carbon capture, and scalable green infrastructure.\n",
            "- The next trillion-dollar company will likely dominate an industry where AI agents become indispensable, integrating deeply into workflows and consumer life.\n"
          ]
        }
      ]
    },
    {
      "cell_type": "code",
      "source": [
        "# Second test\n",
        "answer2, retrieved2 = rag_generate(\"Which industries are most promising for the next trillion-dollar company?\")\n",
        "print(\"💡 Answer:\", answer2)\n",
        "print(\"\\n📚 Context used:\")\n",
        "for r in retrieved2:\n",
        "    print(\"-\", r)\n"
      ],
      "metadata": {
        "colab": {
          "base_uri": "https://localhost:8080/"
        },
        "id": "qp7cmvVzarJo",
        "outputId": "c95b394e-a735-4c5c-e6cb-ed73058bdde3"
      },
      "execution_count": null,
      "outputs": [
        {
          "output_type": "stream",
          "name": "stdout",
          "text": [
            "💡 Answer: clean energy, carbon capture, and scalable green infrastructure\n",
            "\n",
            "📚 Context used:\n",
            "- Sustainability and climate-tech may fuel the rise of the next trillion-dollar firm, driven by breakthroughs in clean energy, carbon capture, and scalable green infrastructure.\n",
            "- The next trillion-dollar company will likely dominate an industry where AI agents become indispensable, integrating deeply into workflows and consumer life.\n",
            "- The next trillion-dollar opportunity could come from biotech, where personalized medicine and gene editing converge with AI to drastically lower costs and improve outcomes.\n"
          ]
        }
      ]
    },
    {
      "cell_type": "code",
      "source": [
        "# Second test question\n",
        "answer2, retrieved2 = rag_generate(\"Which industries are most promising for the next trillion-dollar company?\")\n",
        "print(\"💡 Answer:\", answer2)\n",
        "print(\"\\n📚 Context used:\")\n",
        "for r in retrieved2:\n",
        "    print(\"-\", r)\n"
      ],
      "metadata": {
        "colab": {
          "base_uri": "https://localhost:8080/"
        },
        "id": "wTS-nERbinI5",
        "outputId": "40f06d8b-f9ad-4541-d260-a68283c82313"
      },
      "execution_count": null,
      "outputs": [
        {
          "output_type": "stream",
          "name": "stdout",
          "text": [
            "💡 Answer: clean energy, carbon capture, and scalable green infrastructure\n",
            "\n",
            "📚 Context used:\n",
            "- Sustainability and climate-tech may fuel the rise of the next trillion-dollar firm, driven by breakthroughs in clean energy, carbon capture, and scalable green infrastructure.\n",
            "- The next trillion-dollar company will likely dominate an industry where AI agents become indispensable, integrating deeply into workflows and consumer life.\n",
            "- The next trillion-dollar opportunity could come from biotech, where personalized medicine and gene editing converge with AI to drastically lower costs and improve outcomes.\n"
          ]
        }
      ]
    }
  ]
}